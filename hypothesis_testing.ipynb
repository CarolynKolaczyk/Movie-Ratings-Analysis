{
 "cells": [
  {
   "cell_type": "code",
   "execution_count": 1,
   "id": "a9520b98",
   "metadata": {},
   "outputs": [],
   "source": [
    "# Packages\n",
    "import numpy as np\n",
    "from scipy import stats\n",
    "import matplotlib.pyplot as plt\n",
    "import pandas as pd"
   ]
  },
  {
   "cell_type": "code",
   "execution_count": 2,
   "id": "85800ab7",
   "metadata": {},
   "outputs": [],
   "source": [
    "# Import data\n",
    "df = pd.read_csv('movieReplicationSet.csv')"
   ]
  },
  {
   "cell_type": "markdown",
   "id": "b99f7362",
   "metadata": {},
   "source": [
    "For many of the hypothesis tests that follow, note that ratings data cannot be reduced to a sample mean. This affects which hypothesis tests we choose to perform."
   ]
  },
  {
   "cell_type": "markdown",
   "id": "6df81a8b",
   "metadata": {},
   "source": [
    "### Question 1: Are movies with more ratings rater higher than movies with less ratings?"
   ]
  },
  {
   "cell_type": "markdown",
   "id": "f2d0dad5",
   "metadata": {},
   "source": [
    "We choose to perform a Mann Whitney U test, since we are comparing popularity (median number of ratings), not a mean."
   ]
  },
  {
   "cell_type": "code",
   "execution_count": 3,
   "id": "440345e4",
   "metadata": {},
   "outputs": [
    {
     "name": "stdout",
     "output_type": "stream",
     "text": [
      "759942655.5\n",
      "0.0\n"
     ]
    }
   ],
   "source": [
    "# Calculate \"popularity\"\n",
    "movies_df = df.iloc[:, 0:400]\n",
    "popularity = movies_df.count()\n",
    "median_popularity = np.median(popularity)\n",
    "\n",
    "# split on popularity\n",
    "df2 = movies_df.append(popularity, ignore_index=True)\n",
    "low_pop_mask = (popularity <= median_popularity)\n",
    "high_pop_mask = (popularity > median_popularity)\n",
    "\n",
    "low_pop_movies = df2.loc[:, low_pop_mask]\n",
    "high_pop_movies = df2.loc[:, high_pop_mask]\n",
    "\n",
    "# Consolidate ratings for each group (low vs high pop)\n",
    "ratings_low_pop = low_pop_movies.to_numpy()\n",
    "ratings_high_pop = high_pop_movies.to_numpy()\n",
    "# Drop NaNs\n",
    "ratings_low_pop = ratings_low_pop[np.logical_not(np.isnan(ratings_low_pop))]  # len = 22,200\n",
    "ratings_high_pop= ratings_high_pop[np.logical_not(np.isnan(ratings_high_pop))]  # len = 90,414\n",
    "\n",
    "# Do mann whitney U test\n",
    "u1,p1 = stats.mannwhitneyu(ratings_low_pop, ratings_high_pop, alternative='less')\n",
    "print(u1)\n",
    "print(p1) "
   ]
  },
  {
   "cell_type": "markdown",
   "id": "fc8315a4",
   "metadata": {},
   "source": [
    "Conclusion: We reject the null hypothesis that they are the same, and accept the alternative hypothesis that popular movies are rated higher than less popular movies."
   ]
  },
  {
   "cell_type": "markdown",
   "id": "7098be6f",
   "metadata": {},
   "source": [
    "### Question 2: Are movies that are newer rated differently than movies that are older?"
   ]
  },
  {
   "cell_type": "code",
   "execution_count": 5,
   "id": "bc910e1a",
   "metadata": {},
   "outputs": [
    {
     "name": "stdout",
     "output_type": "stream",
     "text": [
      "1515524791.0\n",
      "7.167226926012573e-06\n"
     ]
    }
   ],
   "source": [
    "# Need to parse years from titles\n",
    "titles = movies_df.columns\n",
    "titles = titles.to_series()\n",
    "titles_and_years = titles.apply(lambda x: x[-5:-1])\n",
    "\n",
    "# Fix year for 'Rambo: First Blood Part II' \n",
    "titles_and_years[6] = '1985' # Year wasn't included in original dataset, so we add it\n",
    "titles_and_years = titles_and_years.apply(lambda x: int(x))\n",
    "years = titles_and_years.values\n",
    "\n",
    "median_year = np.median(years) #1999\n",
    "\n",
    "df2 = movies_df.append(titles_and_years, ignore_index=True)\n",
    "old_mask = (years < median_year)\n",
    "new_mask = (years >= median_year)\n",
    "\n",
    "old_movies = df2.loc[:, old_mask]\n",
    "new_movies = df2.loc[:, new_mask]\n",
    "\n",
    "# Consolidate ratings for each group (low vs high pop)\n",
    "ratings_old= old_movies.to_numpy()\n",
    "ratings_new = new_movies.to_numpy()\n",
    "# Drop NaNs\n",
    "ratings_old = ratings_old[np.logical_not(np.isnan(ratings_old))]  # len = 46,721\n",
    "ratings_new= ratings_new[np.logical_not(np.isnan(ratings_new))]  # len = 65,893\n",
    "\n",
    "# Do mann whitney U test\n",
    "u2,p2 = stats.mannwhitneyu(ratings_old, ratings_new)\n",
    "print(u2)\n",
    "print(p2)"
   ]
  },
  {
   "cell_type": "markdown",
   "id": "d06ad1f0",
   "metadata": {},
   "source": [
    "We obtain a p value of 7.17e-06. This is less than our alpha level, so we reject the null hypothesis that the ratings are the same and conclude that newer movies are rated differently than older movies"
   ]
  },
  {
   "cell_type": "markdown",
   "id": "92bbb899",
   "metadata": {},
   "source": [
    "### Question 3: Is enjoyment of ‘Shrek (2001)’ gendered, i.e. do male and female viewers rate it differently"
   ]
  },
  {
   "cell_type": "code",
   "execution_count": 6,
   "id": "99255987",
   "metadata": {},
   "outputs": [
    {
     "name": "stdout",
     "output_type": "stream",
     "text": [
      "90219.5\n",
      "0.010031609873905622\n"
     ]
    }
   ],
   "source": [
    "gender_id = df.iloc[:, 474] # 1 = female, 2 = male, 3 = self-described\n",
    "mask_f = (gender_id == 1) # mask  to filer f vs m ratings\n",
    "mask_m = (gender_id == 2)\n",
    "\n",
    "shrek = movies_df.iloc[:, 57]\n",
    "shrek_ratings_f = shrek[mask_f]\n",
    "shrek_ratings_m = shrek[mask_m]\n",
    "\n",
    "# Drop NaNs\n",
    "shrek_ratings_f = shrek_ratings_f[np.logical_not(np.isnan(shrek_ratings_f))] # len = 712\n",
    "shrek_ratings_m = shrek_ratings_m[np.logical_not(np.isnan(shrek_ratings_m))] # len = 228\n",
    "\n",
    "# Do mann whitney U test\n",
    "u3,p3 = stats.mannwhitneyu(shrek_ratings_f, shrek_ratings_m)\n",
    "print(u3) \n",
    "print(p3) "
   ]
  },
  {
   "cell_type": "markdown",
   "id": "1e4f01c8",
   "metadata": {},
   "source": [
    "When comparing the ratings of ‘Shrek (2001)’ among male vs. female viewers, we obtain a p value of 0.01. This is greater than our alpha level, thus we fail to reject the null hypothesis and cannot conclude that the enjoyment of ‘Shrek (2001)’ is gendered."
   ]
  },
  {
   "cell_type": "markdown",
   "id": "9ae67fed",
   "metadata": {},
   "source": [
    "### Question 4: What proportion of movies are rated differently by male and female viewers?"
   ]
  },
  {
   "cell_type": "code",
   "execution_count": 9,
   "id": "fdae9cd1",
   "metadata": {},
   "outputs": [
    {
     "name": "stdout",
     "output_type": "stream",
     "text": [
      "50\n",
      "proportion: 0.125\n"
     ]
    }
   ],
   "source": [
    "# loop over all movies, do above for each and count how many we reject null for vs don't\n",
    "num_rated_diff = 0\n",
    "\n",
    "for i in range(400):\n",
    "    # Get ith movie\n",
    "    movie = movies_df.iloc[:, i]\n",
    "    \n",
    "    # Separate ratings by gender\n",
    "    movie_ratings_f = movie[mask_f]\n",
    "    movie_ratings_m = movie[mask_m]\n",
    "    \n",
    "    # Drop NaNs\n",
    "    movie_ratings_f = movie_ratings_f[np.logical_not(np.isnan(movie_ratings_f))]\n",
    "    movie_ratings_m = movie_ratings_m[np.logical_not(np.isnan(movie_ratings_m))]\n",
    "    \n",
    "    # Do mann whitney U test\n",
    "    u,p = stats.mannwhitneyu(movie_ratings_f, movie_ratings_m)\n",
    "    \n",
    "    if p < 0.005:\n",
    "        num_rated_diff += 1\n",
    "    \n",
    "    \n",
    "print(num_rated_diff) # 50   -> proportion = 50 / 400 = 0.125\n",
    "print('proportion:', num_rated_diff / 400)"
   ]
  },
  {
   "cell_type": "markdown",
   "id": "09067991",
   "metadata": {},
   "source": [
    "When comparing the ratings of all 400 movies among male vs. female viewers, we obtain that 50 movies achieved a p value less than our alpha level. Thus, we can conclude that 0.125 is the proportion of movies rated differently by male and female viewers."
   ]
  },
  {
   "cell_type": "markdown",
   "id": "5b0c5b90",
   "metadata": {},
   "source": [
    "### Question 5:  Do people who are only children enjoy ‘The Lion King (1994)’ more than people with siblings?"
   ]
  },
  {
   "cell_type": "code",
   "execution_count": 10,
   "id": "648011c7",
   "metadata": {},
   "outputs": [
    {
     "name": "stdout",
     "output_type": "stream",
     "text": [
      "52929.0\n",
      "0.978419092554931\n"
     ]
    }
   ],
   "source": [
    "sibling_status = df.iloc[:, 475] # 1 = yes, 0 = no, -1 = no response\n",
    "mask_OC= (sibling_status == 1) # mask  to filer f vs m ratings\n",
    "mask_sibs = (sibling_status == 0)\n",
    "\n",
    "LK = movies_df.iloc[:, 220]\n",
    "LK_ratings_OC = LK[mask_OC]\n",
    "LK_ratings_sibs = LK[mask_sibs]\n",
    "\n",
    "# Drop NaNs\n",
    "LK_ratings_OC = LK_ratings_OC[np.logical_not(np.isnan(LK_ratings_OC))]\n",
    "LK_ratings_sibs = LK_ratings_sibs[np.logical_not(np.isnan(LK_ratings_sibs))]\n",
    "    \n",
    "# Do mann whitney U test\n",
    "u5,p5 = stats.mannwhitneyu(LK_ratings_OC, LK_ratings_sibs, alternative='greater')\n",
    "print(u5) \n",
    "print(p5) "
   ]
  },
  {
   "cell_type": "markdown",
   "id": "c38abe23",
   "metadata": {},
   "source": [
    "We obtain a p value of 0.9784, which is greater than our alpha level. Thus, we fail to reject the null hypothesis and cannot conclude that people who are only children enjoy ‘The Lion King (1994)’ more than people with siblings."
   ]
  },
  {
   "cell_type": "markdown",
   "id": "a0e98743",
   "metadata": {},
   "source": [
    "### Question 6: What proportion of movies exhibit an “only child effect”, i.e. are rated different by viewers with siblings vs. those without?"
   ]
  },
  {
   "cell_type": "code",
   "execution_count": 12,
   "id": "c4e7b3f1",
   "metadata": {},
   "outputs": [
    {
     "name": "stdout",
     "output_type": "stream",
     "text": [
      "7\n",
      "proportion: 0.0175\n",
      "['Billy Madison (1995)', 'The Blue Lagoon (1980)', 'Happy Gilmore (1996)', 'American Pie (1999)', 'Star Wars: Episode VI - The Return of the Jedi (1983)', 'FeardotCom (2002)', 'Captain America: Civil War (2016)']\n"
     ]
    }
   ],
   "source": [
    "num_rated_diff = 0\n",
    "diff_rated_movies = []\n",
    "\n",
    "for i in range(400):\n",
    "    # Get ith movie\n",
    "    movie = movies_df.iloc[:, i]\n",
    "    \n",
    "    # Separate ratings by gender\n",
    "    movie_ratings_OC = movie[mask_OC]\n",
    "    movie_ratings_sibs = movie[mask_sibs]\n",
    "    \n",
    "    # Drop NaNs\n",
    "    movie_ratings_OC = movie_ratings_OC[np.logical_not(np.isnan(movie_ratings_OC))]\n",
    "    movie_ratings_sibs = movie_ratings_sibs[np.logical_not(np.isnan(movie_ratings_sibs))]\n",
    "    \n",
    "    # Do mann whitney U test\n",
    "    u,p = stats.mannwhitneyu(movie_ratings_OC, movie_ratings_sibs)\n",
    "    \n",
    "    if p < 0.005:\n",
    "        num_rated_diff += 1\n",
    "        diff_rated_movies.append(movies_df.columns[i])\n",
    "    \n",
    "print(num_rated_diff) # 7\n",
    "print('proportion:', num_rated_diff/400)\n",
    "print(diff_rated_movies)"
   ]
  },
  {
   "cell_type": "markdown",
   "id": "061d3553",
   "metadata": {},
   "source": [
    "Seven movies achieve a p value less than our alpha level. Thus, we conclude that 0.0175 is the proportion of movies with an “only child effect”."
   ]
  },
  {
   "cell_type": "markdown",
   "id": "2dcd748f",
   "metadata": {},
   "source": [
    "### Question 7: Do people who like to watch movies socially enjoy ‘The Wolf of Wall Street (2013)’ more than those who prefer to watch them alone?"
   ]
  },
  {
   "cell_type": "code",
   "execution_count": 13,
   "id": "61e82a82",
   "metadata": {},
   "outputs": [
    {
     "name": "stdout",
     "output_type": "stream",
     "text": [
      "49303.5\n",
      "0.9436657996253056\n"
     ]
    }
   ],
   "source": [
    "alone = df.iloc[:, 476] # 1 = yes, 0 = no, -1 = no response\n",
    "mask_alone = (alone == 1) \n",
    "mask_social = (alone == 0)\n",
    "\n",
    "\n",
    "WWS = movies_df.iloc[:, 357]\n",
    "WWS_ratings_alone = WWS[mask_alone]\n",
    "WWS_ratings_social = WWS[mask_social]\n",
    "\n",
    "# Drop NaNs\n",
    "WWS_ratings_alone = WWS_ratings_alone[np.logical_not(np.isnan(WWS_ratings_alone))]\n",
    "WWS_ratings_social = WWS_ratings_social[np.logical_not(np.isnan(WWS_ratings_social))]\n",
    "    \n",
    "# Do mann whitney U test\n",
    "u7,p7 = stats.mannwhitneyu(WWS_ratings_social, WWS_ratings_alone, alternative='greater')\n",
    "print(u7) \n",
    "print(p7)"
   ]
  },
  {
   "cell_type": "markdown",
   "id": "8141bb02",
   "metadata": {},
   "source": [
    "When comparing the ratings of ‘The Wolf of Wall Street (2013)’ among people who enjoy watching movies socially vs. alone, we obtain a p value of 0.94367. This is greater than our alpha level, thus we fail to reject the null hypothesis and cannot conclude that people who like to watch movies socially enjoy ‘The Wolf of Wall Street (2013)’ more than people who prefer to watch them alone."
   ]
  },
  {
   "cell_type": "markdown",
   "id": "34bec427",
   "metadata": {},
   "source": [
    "### Question 8: What proportion of movies exhibit such a “social watching” effect?"
   ]
  },
  {
   "cell_type": "code",
   "execution_count": 17,
   "id": "a65ee6d6",
   "metadata": {},
   "outputs": [
    {
     "name": "stdout",
     "output_type": "stream",
     "text": [
      "6\n",
      "0.015\n",
      "['North (1994)', 'Shrek 2 (2004)', 'The Avengers (2012)', 'Spider-Man (2002)', 'The Transporter (2002)', 'Captain America: Civil War (2016)']\n"
     ]
    }
   ],
   "source": [
    "num_rated_diff = 0\n",
    "diff_rated_movies = []\n",
    "\n",
    "for i in range(400):\n",
    "    # Get ith movie\n",
    "    movie = movies_df.iloc[:, i]\n",
    "    \n",
    "    # Separate ratings by gender\n",
    "    movie_ratings_alone = movie[mask_alone]\n",
    "    movie_ratings_social = movie[mask_social]\n",
    "    \n",
    "    # Drop NaNs\n",
    "    movie_ratings_alone = movie_ratings_alone[np.logical_not(np.isnan(movie_ratings_alone))]\n",
    "    movie_ratings_social = movie_ratings_social[np.logical_not(np.isnan(movie_ratings_social))]\n",
    "    \n",
    "    # Do mann whitney U test\n",
    "    u,p = stats.mannwhitneyu(movie_ratings_social, movie_ratings_alone, alternative='greater')\n",
    "    \n",
    "    if p < 0.005:\n",
    "        num_rated_diff += 1\n",
    "        diff_rated_movies.append(movies_df.columns[i])\n",
    "    \n",
    "print(num_rated_diff) # 6  \n",
    "print(num_rated_diff/400)\n",
    "print(diff_rated_movies)"
   ]
  },
  {
   "cell_type": "markdown",
   "id": "6ec31838",
   "metadata": {},
   "source": [
    "When comparing the ratings of all 400 movies among people who enjoy watching movies socially vs. alone, we obtain that six movies achieve a p value less than our alpha level. Thus, we can conclude that 0.015 is the proportion of movies that exhibit a “social watching effect”."
   ]
  },
  {
   "cell_type": "markdown",
   "id": "441d80f1",
   "metadata": {},
   "source": [
    "### Question 9: Is the ratings distribution of ‘Home Alone (1990)’ different than that of ‘Finding Nemo (2003)’?"
   ]
  },
  {
   "cell_type": "markdown",
   "id": "0e27e1af",
   "metadata": {},
   "source": [
    "We perform a Kolmogorov-Smirnov hypothesis test, since our ratings data cannot be reduced to sample means, and we wish to compare distributions."
   ]
  },
  {
   "cell_type": "code",
   "execution_count": 18,
   "id": "f2a1871f",
   "metadata": {},
   "outputs": [
    {
     "name": "stdout",
     "output_type": "stream",
     "text": [
      "0.16790123456790124\n",
      "2.2038507937682687e-10\n"
     ]
    }
   ],
   "source": [
    "HA = movies_df.iloc[:, 285] # 857  non-NaN\n",
    "Nemo = movies_df.iloc[:, 138] #1014  non-NaN\n",
    "\n",
    "# Row wise pruning\n",
    "temp = np.array([np.isnan(HA),np.isnan(Nemo)],dtype=bool)\n",
    "temp2 = temp*1 # convert boolean to int\n",
    "temp2 = sum(temp2) # take sum of each participant\n",
    "missingData = np.where(temp2>0) # find participants with missing data\n",
    "HA = np.delete(HA.values,missingData) # delete missing data from array\n",
    "Nemo = np.delete(Nemo.values,missingData) # delete missing data from array\n",
    "\n",
    "\n",
    "k9, p9 = stats.kstest(HA, Nemo)\n",
    "print(k9) \n",
    "print(p9)"
   ]
  },
  {
   "cell_type": "markdown",
   "id": "1d2a2762",
   "metadata": {},
   "source": [
    "we obtain a p value of 2.2e-10. This is less than our alpha level, thus we reject the null hypothesis, and conclude that the ratings distribution of ‘Home Alone (1990)’ is different than the ratings distribution of ‘Finding Nemo (2003)’."
   ]
  },
  {
   "cell_type": "markdown",
   "id": "746ba5e0",
   "metadata": {},
   "source": [
    "### Question 10: There are ratings on movies from several franchises ([‘Star Wars’, ‘Harry Potter’, ‘The Matrix’, ‘Indiana Jones’, ‘Jurassic Park’, ‘Pirates of the Caribbean’, ‘Toy Story’, ‘Batman’]) in this dataset. How many of these are of inconsistent quality, as experienced by viewers?"
   ]
  },
  {
   "cell_type": "markdown",
   "id": "d3e62608",
   "metadata": {},
   "source": [
    "We choose to perform Kruskal-Wallis hypothesis tests, since our data cannot be reduced to sample means, are we have more than 2 groups. "
   ]
  },
  {
   "cell_type": "code",
   "execution_count": 21,
   "id": "c43c6122",
   "metadata": {},
   "outputs": [
    {
     "name": "stdout",
     "output_type": "stream",
     "text": [
      "Star Wars: 6.940162236984522e-40\n",
      "Harry Potter: 0.11790622831256074\n",
      "The Matrix: 1.7537323830838066e-09\n",
      "Indiana Jones: 1.020118354785894e-11\n",
      "Jurassic Park: 1.8492328391686058e-11\n",
      "Pirates of the Caribbean: 0.035792727694248905\n",
      "Toy Story: 7.902234665149812e-06\n",
      "Batman: 4.1380499020034183e-19\n"
     ]
    }
   ],
   "source": [
    "franchises = ['Star Wars', 'Harry Potter', 'The Matrix', 'Indiana Jones', 'Jurassic Park',\n",
    "              'Pirates of the Caribbean', 'Toy Story', 'Batman']\n",
    "\n",
    "titles = movies_df.columns\n",
    "inconsistent = []\n",
    "p_vals = {}\n",
    "\n",
    "for franchise in franchises:\n",
    "    # get all moves in franchise\n",
    "    movies = titles[titles.str.contains(franchise)]\n",
    "    \n",
    "    all_ratings = [] # list of Series'\n",
    "    all_nans = []\n",
    "    \n",
    "    # get ratings for each movie in franchise\n",
    "    for movie in movies:\n",
    "        ratings = movies_df[movie]\n",
    "        all_ratings.append(ratings)\n",
    "        all_nans.append(np.isnan(ratings))\n",
    "        \n",
    "    # row wise removal\n",
    "    temp = np.array(all_nans,dtype=bool)\n",
    "    temp2 = temp*1 # convert boolean to int\n",
    "    temp2 = sum(temp2) # take sum of each participant\n",
    "    missingData = np.where(temp2>0) # find participants with missing data\n",
    "    # delete for each movies\n",
    "    all_ratings_cleaned = []\n",
    "    for i in range(len(all_ratings)):\n",
    "        movie = np.delete(all_ratings[i].values,missingData) # delete missing data from array\n",
    "        all_ratings_cleaned.append(movie)\n",
    "        \n",
    "    # Kruskal-Wallis test\n",
    "    h,p = stats.kruskal(*all_ratings_cleaned)\n",
    "    \n",
    "    print(franchise, end=': ')\n",
    "    print(p)\n",
    "    p_vals[franchise] = p\n",
    "    \n",
    "    # add to list if franchise is inconsistent\n",
    "    if p < 0.005:\n",
    "        inconsistent.append(franchise)"
   ]
  },
  {
   "cell_type": "markdown",
   "id": "34306259",
   "metadata": {},
   "source": [
    "We obtain that six franchises achieve a p value less than our alpha level. These are 'Star Wars', 'The Matrix', 'Indiana Jones', 'Jurassic Park', 'Toy Story', and 'Batman'. Therefore, we conclude that these six franchises are of inconsistent quality, as experienced by the viewers."
   ]
  },
  {
   "cell_type": "markdown",
   "id": "b67d201a",
   "metadata": {},
   "source": [
    "### Question 11:  Is the enjoyment of the movies in the ‘Star Wars’ franchise gendered?"
   ]
  },
  {
   "cell_type": "code",
   "execution_count": 23,
   "id": "4457f8df",
   "metadata": {},
   "outputs": [
    {
     "name": "stdout",
     "output_type": "stream",
     "text": [
      "['Star Wars: Episode IV - A New Hope (1977)']\n"
     ]
    }
   ],
   "source": [
    "star_wars_movies = titles[titles.str.contains('Star Wars')]\n",
    "\n",
    "# we have gender masks from before\n",
    "\n",
    "gendered = []\n",
    "p_vals = {}\n",
    "\n",
    "for movie in star_wars_movies:\n",
    "    ratings = movies_df[movie]\n",
    "    ratings_f = ratings[mask_f]\n",
    "    ratings_m = ratings[mask_m]\n",
    "\n",
    "    # Drop NaNs\n",
    "    ratings_f = ratings_f[np.logical_not(np.isnan(ratings_f))] # len = 712\n",
    "    ratings_m = ratings_m[np.logical_not(np.isnan(ratings_m))] # len = 228\n",
    "\n",
    "    # Do mann whitney U test\n",
    "    u,p = stats.mannwhitneyu(ratings_f, ratings_m)\n",
    "    p_vals[movie] = p\n",
    "    \n",
    "    if p < 0.005:\n",
    "        gendered.append(movie)\n",
    "        \n",
    "print(gendered)"
   ]
  },
  {
   "cell_type": "markdown",
   "id": "b275da74",
   "metadata": {},
   "source": [
    "Of the six ‘Star Wars’ movies in our dataset, only ‘Star Wars: Episode IV - A New Hope (1977)’ obtains a p value less than our alpha value of 0.005, at 0.0017. Thus, we can conclude that this is the only Star Wars movie that male and female viewers rate differently."
   ]
  },
  {
   "cell_type": "code",
   "execution_count": null,
   "id": "bd5a5e3c",
   "metadata": {},
   "outputs": [],
   "source": []
  }
 ],
 "metadata": {
  "kernelspec": {
   "display_name": "Python 3 (ipykernel)",
   "language": "python",
   "name": "python3"
  },
  "language_info": {
   "codemirror_mode": {
    "name": "ipython",
    "version": 3
   },
   "file_extension": ".py",
   "mimetype": "text/x-python",
   "name": "python",
   "nbconvert_exporter": "python",
   "pygments_lexer": "ipython3",
   "version": "3.9.6"
  }
 },
 "nbformat": 4,
 "nbformat_minor": 5
}
